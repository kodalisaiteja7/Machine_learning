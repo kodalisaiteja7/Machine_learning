{
  "nbformat": 4,
  "nbformat_minor": 0,
  "metadata": {
    "colab": {
      "name": "malaria cell classification.ipynb",
      "version": "0.3.2",
      "provenance": []
    },
    "kernelspec": {
      "name": "python3",
      "display_name": "Python 3"
    }
  },
  "cells": [
    {
      "cell_type": "code",
      "metadata": {
        "id": "okuB-x4iRdIl",
        "colab_type": "code",
        "colab": {}
      },
      "source": [
        "from keras.models import Sequential\n",
        "from keras.layers import Convolution2D\n",
        "from keras.layers import MaxPooling2D\n",
        "from keras.layers import Flatten\n",
        "from keras.layers import Dense"
      ],
      "execution_count": 0,
      "outputs": []
    },
    {
      "cell_type": "code",
      "metadata": {
        "id": "0OcSFNJ4S958",
        "colab_type": "code",
        "colab": {}
      },
      "source": [
        "classifier = Sequential()"
      ],
      "execution_count": 0,
      "outputs": []
    },
    {
      "cell_type": "code",
      "metadata": {
        "id": "rgHlERaHTg0q",
        "colab_type": "code",
        "colab": {
          "base_uri": "https://localhost:8080/",
          "height": 70
        },
        "outputId": "bde4cfa9-add9-4044-fb48-48239c71be67"
      },
      "source": [
        "classifier.add(Convolution2D(32,3,3,input_shape = (64,64,3),activation = 'relu'))"
      ],
      "execution_count": 211,
      "outputs": [
        {
          "output_type": "stream",
          "text": [
            "/usr/local/lib/python3.6/dist-packages/ipykernel_launcher.py:1: UserWarning: Update your `Conv2D` call to the Keras 2 API: `Conv2D(32, (3, 3), input_shape=(64, 64, 3..., activation=\"relu\")`\n",
            "  \"\"\"Entry point for launching an IPython kernel.\n"
          ],
          "name": "stderr"
        }
      ]
    },
    {
      "cell_type": "code",
      "metadata": {
        "id": "5RNfJs5cTwAO",
        "colab_type": "code",
        "colab": {}
      },
      "source": [
        "\n",
        "classifier.add(MaxPooling2D(pool_size = (2,2)))"
      ],
      "execution_count": 0,
      "outputs": []
    },
    {
      "cell_type": "code",
      "metadata": {
        "id": "I8WRHXWdT7el",
        "colab_type": "code",
        "colab": {
          "base_uri": "https://localhost:8080/",
          "height": 70
        },
        "outputId": "bb5d4890-ced8-44f1-c7ba-b912837e0d23"
      },
      "source": [
        "classifier.add(Convolution2D(32, 3, 3, activation = 'relu'))\n",
        "classifier.add(MaxPooling2D(pool_size = (2, 2)))\n",
        "classifier.add(Flatten())"
      ],
      "execution_count": 213,
      "outputs": [
        {
          "output_type": "stream",
          "text": [
            "/usr/local/lib/python3.6/dist-packages/ipykernel_launcher.py:1: UserWarning: Update your `Conv2D` call to the Keras 2 API: `Conv2D(32, (3, 3), activation=\"relu\")`\n",
            "  \"\"\"Entry point for launching an IPython kernel.\n"
          ],
          "name": "stderr"
        }
      ]
    },
    {
      "cell_type": "code",
      "metadata": {
        "id": "RxFVrMJSUB1g",
        "colab_type": "code",
        "colab": {
          "base_uri": "https://localhost:8080/",
          "height": 70
        },
        "outputId": "d544918b-a801-431b-b3fb-d8b278bfa102"
      },
      "source": [
        "classifier.add(Dense(output_dim = 128,activation = 'relu'))"
      ],
      "execution_count": 214,
      "outputs": [
        {
          "output_type": "stream",
          "text": [
            "/usr/local/lib/python3.6/dist-packages/ipykernel_launcher.py:1: UserWarning: Update your `Dense` call to the Keras 2 API: `Dense(activation=\"relu\", units=128)`\n",
            "  \"\"\"Entry point for launching an IPython kernel.\n"
          ],
          "name": "stderr"
        }
      ]
    },
    {
      "cell_type": "code",
      "metadata": {
        "id": "sSrnkoYbUKoh",
        "colab_type": "code",
        "colab": {
          "base_uri": "https://localhost:8080/",
          "height": 70
        },
        "outputId": "bc46acfb-94cd-4514-d297-9831070aa9ff"
      },
      "source": [
        "classifier.add(Dense(output_dim = 1,activation ='sigmoid'))\n",
        "classifier.compile(optimizer = 'adam', loss = 'binary_crossentropy', metrics = ['accuracy'])"
      ],
      "execution_count": 215,
      "outputs": [
        {
          "output_type": "stream",
          "text": [
            "/usr/local/lib/python3.6/dist-packages/ipykernel_launcher.py:1: UserWarning: Update your `Dense` call to the Keras 2 API: `Dense(activation=\"sigmoid\", units=1)`\n",
            "  \"\"\"Entry point for launching an IPython kernel.\n"
          ],
          "name": "stderr"
        }
      ]
    },
    {
      "cell_type": "code",
      "metadata": {
        "id": "sQvFTqZCUj4W",
        "colab_type": "code",
        "colab": {}
      },
      "source": [
        "from keras.preprocessing.image import ImageDataGenerator"
      ],
      "execution_count": 0,
      "outputs": []
    },
    {
      "cell_type": "code",
      "metadata": {
        "id": "m5eXL4G7Ur1q",
        "colab_type": "code",
        "colab": {}
      },
      "source": [
        "train_datagen = ImageDataGenerator(\n",
        "                     rescale = 1./255,\n",
        "                     shear_range = 0.2,\n",
        "                     zoom_range = 0.2,\n",
        "                     horizontal_flip = True)"
      ],
      "execution_count": 0,
      "outputs": []
    },
    {
      "cell_type": "code",
      "metadata": {
        "id": "-pM0QC19VFa_",
        "colab_type": "code",
        "colab": {}
      },
      "source": [
        "test_datagen = ImageDataGenerator(rescale = 1./255)"
      ],
      "execution_count": 0,
      "outputs": []
    },
    {
      "cell_type": "code",
      "metadata": {
        "id": "uK769LHLVNBi",
        "colab_type": "code",
        "colab": {
          "base_uri": "https://localhost:8080/",
          "height": 34
        },
        "outputId": "a8751980-e54e-42d9-bfa5-6d31dfb4aad9"
      },
      "source": [
        "train = train_datagen.flow_from_directory('cell_class/train',target_size = (64,64),batch_size = 32,class_mode = 'binary')"
      ],
      "execution_count": 219,
      "outputs": [
        {
          "output_type": "stream",
          "text": [
            "Found 19004 images belonging to 2 classes.\n"
          ],
          "name": "stdout"
        }
      ]
    },
    {
      "cell_type": "code",
      "metadata": {
        "id": "wGQUPBZUWB51",
        "colab_type": "code",
        "colab": {
          "base_uri": "https://localhost:8080/",
          "height": 34
        },
        "outputId": "ed30fea6-1a65-49ac-a626-f92022107355"
      },
      "source": [
        "test = test_datagen.flow_from_directory('cell_class/test',target_size = (64,64),batch_size = 32,class_mode = 'binary')"
      ],
      "execution_count": 220,
      "outputs": [
        {
          "output_type": "stream",
          "text": [
            "Found 4507 images belonging to 2 classes.\n"
          ],
          "name": "stdout"
        }
      ]
    },
    {
      "cell_type": "code",
      "metadata": {
        "id": "JrYEUt6KWNW0",
        "colab_type": "code",
        "colab": {}
      },
      "source": [
        "from IPython.display import display\n",
        "from PIL import Image"
      ],
      "execution_count": 0,
      "outputs": []
    },
    {
      "cell_type": "code",
      "metadata": {
        "id": "zGp0GR2DWXJ3",
        "colab_type": "code",
        "colab": {
          "base_uri": "https://localhost:8080/",
          "height": 370
        },
        "outputId": "29de658f-742d-4012-bbec-72f53e0a1711"
      },
      "source": [
        "#model.fit_generator(train,steps_per_epoch = 8000,epochs = 10,validation_data =test,validation_steps=800)\n",
        "classifier.fit_generator(train,\n",
        "                           steps_per_epoch=345,\n",
        "                           epochs=10,\n",
        "                           validation_data=test,\n",
        "                           validation_steps=86)"
      ],
      "execution_count": 222,
      "outputs": [
        {
          "output_type": "stream",
          "text": [
            "Epoch 1/10\n",
            "345/345 [==============================] - 103s 298ms/step - loss: 0.5770 - acc: 0.6831 - val_loss: 0.3167 - val_acc: 0.9092\n",
            "Epoch 2/10\n",
            "345/345 [==============================] - 100s 289ms/step - loss: 0.2837 - acc: 0.8896 - val_loss: 0.3558 - val_acc: 0.8569\n",
            "Epoch 3/10\n",
            "345/345 [==============================] - 100s 288ms/step - loss: 0.2342 - acc: 0.9106 - val_loss: 0.2195 - val_acc: 0.9331\n",
            "Epoch 4/10\n",
            "345/345 [==============================] - 99s 287ms/step - loss: 0.1908 - acc: 0.9297 - val_loss: 0.3564 - val_acc: 0.8915\n",
            "Epoch 5/10\n",
            "345/345 [==============================] - 98s 285ms/step - loss: 0.1858 - acc: 0.9334 - val_loss: 0.3123 - val_acc: 0.9050\n",
            "Epoch 6/10\n",
            "345/345 [==============================] - 99s 286ms/step - loss: 0.1791 - acc: 0.9385 - val_loss: 0.3238 - val_acc: 0.9095\n",
            "Epoch 7/10\n",
            "345/345 [==============================] - 99s 288ms/step - loss: 0.1664 - acc: 0.9432 - val_loss: 0.4334 - val_acc: 0.8941\n",
            "Epoch 8/10\n",
            "345/345 [==============================] - 99s 288ms/step - loss: 0.1558 - acc: 0.9489 - val_loss: 0.2618 - val_acc: 0.9393\n",
            "Epoch 9/10\n",
            "345/345 [==============================] - 99s 288ms/step - loss: 0.1565 - acc: 0.9491 - val_loss: 0.2334 - val_acc: 0.9407\n",
            "Epoch 10/10\n",
            "345/345 [==============================] - 100s 290ms/step - loss: 0.1482 - acc: 0.9513 - val_loss: 0.1939 - val_acc: 0.9498\n"
          ],
          "name": "stdout"
        },
        {
          "output_type": "execute_result",
          "data": {
            "text/plain": [
              "<keras.callbacks.History at 0x7f9c63db9eb8>"
            ]
          },
          "metadata": {
            "tags": []
          },
          "execution_count": 222
        }
      ]
    },
    {
      "cell_type": "code",
      "metadata": {
        "id": "JXVhAnEMWsgK",
        "colab_type": "code",
        "colab": {
          "base_uri": "https://localhost:8080/",
          "height": 286
        },
        "outputId": "089f16a0-8183-419f-e71b-c156b11107cd"
      },
      "source": [
        "hist = classifier.history.history\n",
        "hist.keys()\n",
        "val_acc=hist['val_acc']\n",
        "val_loss=hist['val_loss']\n",
        "acc=hist['acc']\n",
        "loss=hist['loss']\n",
        "import matplotlib.pyplot as plt\n",
        "%matplotlib inline\n",
        "epochs=range(1,len(acc)+1)\n",
        "plt.plot(epochs,acc,'bo',label='Training_Accuracy')\n",
        "plt.plot(epochs,val_acc,'b',label='Validation_Accuracy')\n",
        "plt.figure()\n",
        "plt.show()"
      ],
      "execution_count": 226,
      "outputs": [
        {
          "output_type": "display_data",
          "data": {
            "image/png": "[encoded data removed]",
            "text/plain": [
              "<Figure size 432x288 with 1 Axes>"
            ]
          },
          "metadata": {
            "tags": []
          }
        },
        {
          "output_type": "display_data",
          "data": {
            "text/plain": [
              "<Figure size 432x288 with 0 Axes>"
            ]
          },
          "metadata": {
            "tags": []
          }
        }
      ]
    },
    {
      "cell_type": "code",
      "metadata": {
        "id": "AL8qEdCEkCxG",
        "colab_type": "code",
        "colab": {
          "base_uri": "https://localhost:8080/",
          "height": 185
        },
        "outputId": "ca310e57-2e2c-4e4e-8ea1-321778928a41"
      },
      "source": [
        "hist['acc']\n"
      ],
      "execution_count": 227,
      "outputs": [
        {
          "output_type": "execute_result",
          "data": {
            "text/plain": [
              "[0.6830615942028986,\n",
              " 0.8896339253568701,\n",
              " 0.9105978260869565,\n",
              " 0.9296846684013081,\n",
              " 0.9334239130434783,\n",
              " 0.938474084748527,\n",
              " 0.943185936976879,\n",
              " 0.9489130434782609,\n",
              " 0.9490757521272959,\n",
              " 0.951268115942029]"
            ]
          },
          "metadata": {
            "tags": []
          },
          "execution_count": 227
        }
      ]
    },
    {
      "cell_type": "code",
      "metadata": {
        "id": "DJ-9uur8kLZq",
        "colab_type": "code",
        "colab": {
          "base_uri": "https://localhost:8080/",
          "height": 185
        },
        "outputId": "f9a15eda-2076-49a9-f427-0d48c5b54b4c"
      },
      "source": [
        "hist['val_acc']"
      ],
      "execution_count": 228,
      "outputs": [
        {
          "output_type": "execute_result",
          "data": {
            "text/plain": [
              "[0.909156976744186,\n",
              " 0.8569348379183042,\n",
              " 0.9331395348837209,\n",
              " 0.8915180197229028,\n",
              " 0.9049872588278122,\n",
              " 0.9095203488372093,\n",
              " 0.8940662539434902,\n",
              " 0.9393168604651163,\n",
              " 0.9406625409537678,\n",
              " 0.9497633784477781]"
            ]
          },
          "metadata": {
            "tags": []
          },
          "execution_count": 228
        }
      ]
    },
    {
      "cell_type": "code",
      "metadata": {
        "id": "AnfqPy6bkP5y",
        "colab_type": "code",
        "colab": {
          "base_uri": "https://localhost:8080/",
          "height": 185
        },
        "outputId": "75b619df-3674-49fc-9378-4f4ae0734aba"
      },
      "source": [
        "\n",
        "hist['val_loss']\n"
      ],
      "execution_count": 229,
      "outputs": [
        {
          "output_type": "execute_result",
          "data": {
            "text/plain": [
              "[0.31672624862471294,\n",
              " 0.35581656447488,\n",
              " 0.21952012759568387,\n",
              " 0.3563506678207857,\n",
              " 0.3123221700210267,\n",
              " 0.32376580486117407,\n",
              " 0.43339931839025364,\n",
              " 0.26178440823068105,\n",
              " 0.23339212640867718,\n",
              " 0.19385334772058171]"
            ]
          },
          "metadata": {
            "tags": []
          },
          "execution_count": 229
        }
      ]
    },
    {
      "cell_type": "code",
      "metadata": {
        "id": "te7Nq8SZkXQ6",
        "colab_type": "code",
        "colab": {
          "base_uri": "https://localhost:8080/",
          "height": 269
        },
        "outputId": "63cacc2b-3979-4b0a-fec5-f63fbc88c33d"
      },
      "source": [
        "plt.plot(epochs,loss,'bo',label='Training_Loss')\n",
        "plt.plot(epochs,val_loss,'b',label='Validation_Loss')\n",
        "plt.show()\n"
      ],
      "execution_count": 230,
      "outputs": [
        {
          "output_type": "display_data",
          "data": {
            "image/png": "[encoded data removed]",
            "text/plain": [
              "<Figure size 432x288 with 1 Axes>"
            ]
          },
          "metadata": {
            "tags": []
          }
        }
      ]
    },
    {
      "cell_type": "code",
      "metadata": {
        "id": "GF3koFaQkdIr",
        "colab_type": "code",
        "colab": {
          "base_uri": "https://localhost:8080/",
          "height": 269
        },
        "outputId": "f81da03f-9789-4e1a-f966-e7882863266e"
      },
      "source": [
        "epochs=range(1,len(acc)+1)\n",
        "plt.plot(epochs,acc,'bo',label='Training_Accuracy',color='r')\n",
        "plt.plot(epochs,val_acc,'b',label='Validation_Accuracy',color='r')\n",
        "plt.plot(epochs,loss,'bo',label='Training_Loss')\n",
        "plt.plot(epochs,val_loss,'b',label='Validation_Loss')\n",
        "plt.legend()\n",
        "plt.show()\n"
      ],
      "execution_count": 231,
      "outputs": [
        {
          "output_type": "display_data",
          "data": {
            "image/png": "[encoded data removed]",
            "text/plain": [
              "<Figure size 432x288 with 1 Axes>"
            ]
          },
          "metadata": {
            "tags": []
          }
        }
      ]
    }
  ]
}